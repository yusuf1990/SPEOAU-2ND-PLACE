{
  "nbformat": 4,
  "nbformat_minor": 0,
  "metadata": {
    "colab": {
      "provenance": []
    },
    "kernelspec": {
      "name": "python3",
      "display_name": "Python 3"
    },
    "language_info": {
      "name": "python"
    }
  },
  "cells": [
    {
      "cell_type": "code",
      "source": [
        "import lightgbm\n",
        "lightgbm.__version__"
      ],
      "metadata": {
        "id": "1CfXmr9qINeI",
        "colab": {
          "base_uri": "https://localhost:8080/",
          "height": 35
        },
        "outputId": "c841b241-75f7-4b16-bff1-1dbfb967b9b5"
      },
      "execution_count": null,
      "outputs": [
        {
          "output_type": "execute_result",
          "data": {
            "text/plain": [
              "'3.3.5'"
            ],
            "application/vnd.google.colaboratory.intrinsic+json": {
              "type": "string"
            }
          },
          "metadata": {},
          "execution_count": 1
        }
      ]
    },
    {
      "cell_type": "code",
      "source": [
        "import numpy as np\n",
        "import pandas as pd\n",
        "\n",
        "from lightgbm import LGBMRegressor\n",
        "from sklearn.model_selection import KFold,StratifiedKFold ,GroupKFold\n",
        "from sklearn.metrics import mean_absolute_error,mean_squared_error\n",
        "import lightgbm as lgb\n",
        "import warnings\n",
        "warnings.filterwarnings('ignore')\n",
        "from xgboost import XGBRegressor\n",
        "train=pd.read_csv('Train.csv')\n",
        "test=pd.read_csv('Test.csv')\n",
        "sub = pd.read_csv(\"SampleSubmission.csv\")\n",
        "\n",
        "train['win']=1\n",
        "test['win']=0\n",
        "\n",
        "data=pd.concat([train,test]).reset_index(drop=True) \n",
        "\n",
        "##Taking Log of the numeric columns\n",
        "for col in data.drop([\"ID\",\"time\",\"price actual\",'win'], axis=1).columns:\n",
        "  data[col+'i']=np.log(data[col])\n",
        "\n",
        "##Extracting the datetime features\n",
        "data[\"time\"] = pd.to_datetime(data[\"time\"]) \n",
        "data[\"month\"] = data.time.dt.month \n",
        "data[\"year\"] =  data.time.dt.year \n",
        "data[\"day\"] = data.time.dt.day \n",
        "data[\"hour\"] = data.time.dt.hour\n",
        "data['week']=data.time.dt.weekofyear\n",
        "data['dayofyear']=data.time.dt.dayofyear\n",
        "data['dayofweek']=data.time.dt.dayofweek\n",
        "data[\"is_month_end\"] = data.time.dt.is_month_end \n",
        "data[\"is_quarter_end\"] = data.time.dt.is_quarter_end \n",
        "data[\"is_year_end\"] = data.time.dt.is_year_end \n",
        "\n",
        "def time_of_day(number):\n",
        "  if(number>5 and number<12):\n",
        "    return(1)\n",
        "  elif(number>12 and number<17):\n",
        "    return(2)\n",
        "  else:\n",
        "    return(3)\n",
        "\n",
        "data[\"time_of_day\"] = [time_of_day(i) for i in data.hour]\n",
        "\n",
        "train=data[data['win']==1]\n",
        "test=data[data['win']==0]"
      ],
      "metadata": {
        "id": "KJnNfJazIUR2"
      },
      "execution_count": null,
      "outputs": []
    },
    {
      "cell_type": "code",
      "source": [
        "y = train[\"price actual\"] \n",
        "X = train.drop([\"ID\",\"time\",'win','price actual'], axis=1)\n",
        "\n",
        "fold_pred=[] \n",
        "oof_pred = []\n",
        "fold= KFold(n_splits=3)\n",
        "for train_index, test_index in fold.split(X,y):\n",
        "  \n",
        "    X_train, X_test = X.iloc[train_index], X.iloc[test_index] \n",
        "    y_train, y_test = y.iloc[train_index], y.iloc[test_index] \n",
        "\n",
        "    model = LGBMRegressor(objective = \"mae\") \n",
        "    model.fit(X_train,y_train,eval_set=[(X_train,y_train),(X_test, y_test)],verbose = False)\n",
        "\n",
        "    preds= model.predict(X_test) \n",
        "    print(\"err: \",np.sqrt(mean_squared_error(y_test,preds)))\n",
        "    oof_pred.append(np.sqrt(mean_squared_error(y_test,preds)))\n",
        "    p2 = model.predict(test[X.columns]) \n",
        "    fold_pred.append(p2) \n",
        "    \n",
        "\n",
        "print(np.mean(oof_pred)) "
      ],
      "metadata": {
        "colab": {
          "base_uri": "https://localhost:8080/"
        },
        "id": "oUE7_MCxIoss",
        "outputId": "82e0352f-6e58-4bec-de45-d85698e38097"
      },
      "execution_count": null,
      "outputs": [
        {
          "output_type": "stream",
          "name": "stdout",
          "text": [
            "err:  1186.4958710861094\n",
            "err:  834.0278622481122\n",
            "err:  891.4229478699988\n",
            "970.64889373474\n"
          ]
        }
      ]
    },
    {
      "cell_type": "code",
      "source": [
        "sub['price actual'] =  np.mean(fold_pred, axis = 0)\n",
        "sub.to_csv('awin_8.csv', index=False) "
      ],
      "metadata": {
        "id": "fw906ZeBIzMd"
      },
      "execution_count": null,
      "outputs": []
    },
    {
      "cell_type": "code",
      "source": [],
      "metadata": {
        "id": "a0K6wkjej48J"
      },
      "execution_count": null,
      "outputs": []
    }
  ]
}